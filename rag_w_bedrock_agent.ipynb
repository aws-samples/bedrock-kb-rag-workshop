{
 "cells": [
  {
   "cell_type": "code",
   "execution_count": 30,
   "metadata": {},
   "outputs": [],
   "source": [
    "import uuid\n",
    "import boto3\n",
    "import pprint\n",
    "import botocore\n",
    "import logging\n",
    "\n",
    "logging.basicConfig(format='[%(asctime)s] p%(process)s {%(filename)s:%(lineno)d} %(levelname)s - %(message)s', level=logging.INFO)\n",
    "logger = logging.getLogger(__name__)\n"
   ]
  },
  {
   "cell_type": "code",
   "execution_count": 31,
   "metadata": {},
   "outputs": [],
   "source": [
    "# global constants\n",
    "ENDPOINT_URL: str = None\n"
   ]
  },
  {
   "cell_type": "code",
   "execution_count": 32,
   "metadata": {},
   "outputs": [],
   "source": [
    "# you want to make sure that install sequence is as follows\n",
    "# %pip install boto3-1.28.54-py3-none-any.whl\n",
    "# %pip install botocore-1.31.54-py3-none-any.whl\n",
    "# %pip install awscli-1.29.54-py3-none-any.whl\n",
    "\n",
    "# exit out if the Boto3 (Python) SDK versions are not correct\n",
    "assert boto3.__version__ == \"1.28.73\"\n",
    "assert botocore.__version__ == \"1.31.73\"\n"
   ]
  },
  {
   "cell_type": "code",
   "execution_count": 33,
   "metadata": {},
   "outputs": [],
   "source": [
    "input_text:str = \"What are the XGBoost versions supported in Amazon SageMaker?\" # replace this with a prompt relevant to your agent\n",
    "agent_id:str = 'J0TEWQNZ89' # note this from the agent console on Bedrock\n",
    "agent_alias_id:str = 'TSTALIASID' # fixed for draft version of the agent\n",
    "session_id:str = str(uuid.uuid1()) # random identifier\n",
    "enable_trace:bool = True\n"
   ]
  },
  {
   "cell_type": "code",
   "execution_count": 34,
   "metadata": {},
   "outputs": [
    {
     "name": "stderr",
     "output_type": "stream",
     "text": [
      "[2023-11-02 15:01:55,355] p43792 {691742557.py:3} INFO - <botocore.client.BedrockAgentRuntimeService object at 0x0000029010DFBE50>\n"
     ]
    }
   ],
   "source": [
    "# create an boto3 bedrock agent client\n",
    "client = boto3.client(\"bedrock-agent-runtime\", endpoint_url=ENDPOINT_URL)\n",
    "logger.info(client)\n"
   ]
  },
  {
   "cell_type": "code",
   "execution_count": 35,
   "metadata": {},
   "outputs": [
    {
     "name": "stderr",
     "output_type": "stream",
     "text": [
      "[2023-11-02 15:01:55,849] p43792 {4226590062.py:9} INFO - None\n"
     ]
    },
    {
     "name": "stdout",
     "output_type": "stream",
     "text": [
      "{'ResponseMetadata': {'HTTPHeaders': {'connection': 'keep-alive',\n",
      "                                      'content-type': 'application/json',\n",
      "                                      'date': 'Thu, 02 Nov 2023 19:01:55 GMT',\n",
      "                                      'transfer-encoding': 'chunked',\n",
      "                                      'x-amz-bedrock-agent-session-id': '4a5687bd-79b2-11ee-943b-846a79be0989',\n",
      "                                      'x-amzn-bedrock-agent-content-type': 'application/json',\n",
      "                                      'x-amzn-requestid': 'b76650eb-ee2d-4120-a091-d680ea4c588f'},\n",
      "                      'HTTPStatusCode': 200,\n",
      "                      'RequestId': 'b76650eb-ee2d-4120-a091-d680ea4c588f',\n",
      "                      'RetryAttempts': 0},\n",
      " 'completion': <botocore.eventstream.EventStream object at 0x0000029010E0DB90>,\n",
      " 'contentType': 'application/json',\n",
      " 'sessionId': '4a5687bd-79b2-11ee-943b-846a79be0989'}\n"
     ]
    }
   ],
   "source": [
    "# invoke the agent API\n",
    "response = client.invoke_agent(inputText=input_text,\n",
    "    agentId=agent_id,\n",
    "    agentAliasId=agent_alias_id,\n",
    "    sessionId=session_id,\n",
    "    enableTrace=enable_trace\n",
    ")\n",
    "\n",
    "logger.info(pprint.pprint(response))\n"
   ]
  },
  {
   "cell_type": "code",
   "execution_count": 36,
   "metadata": {},
   "outputs": [
    {
     "name": "stderr",
     "output_type": "stream",
     "text": [
      "[2023-11-02 15:02:04,472] p43792 {<timed exec>:11} INFO - {\n",
      "  \"agentId\": \"J0TEWQNZ89\",\n",
      "  \"agentAliasId\": \"TSTALIASID\",\n",
      "  \"sessionId\": \"4a5687bd-79b2-11ee-943b-846a79be0989\",\n",
      "  \"trace\": {\n",
      "    \"rationaleTrace\": {\n",
      "      \"traceId\": \"c5e00690-fbdc-4823-a9ac-5ba9ba27c90a-0\",\n",
      "      \"text\": \"Review the \\\"User Input\\\", \\\"Conversation History\\\", \\\"Attributes\\\", \\\"APIs\\\" and always think about what to do\"\n",
      "    }\n",
      "  }\n",
      "}\n",
      "[2023-11-02 15:02:19,633] p43792 {<timed exec>:11} INFO - {\n",
      "  \"agentId\": \"J0TEWQNZ89\",\n",
      "  \"agentAliasId\": \"TSTALIASID\",\n",
      "  \"sessionId\": \"4a5687bd-79b2-11ee-943b-846a79be0989\",\n",
      "  \"trace\": {\n",
      "    \"invocationInputTrace\": {\n",
      "      \"traceId\": \"c5e00690-fbdc-4823-a9ac-5ba9ba27c90a-0\",\n",
      "      \"invocationType\": \"KNOWLEDGE_BASE\",\n",
      "      \"knowledgeBaseLookupInput\": {\n",
      "        \"text\": \"What are the XGBoost versions supported in Amazon SageMaker?\",\n",
      "        \"knowledgeBaseId\": \"HK7XZ6KQYP\"\n",
      "      }\n",
      "    }\n",
      "  }\n",
      "}\n",
      "[2023-11-02 15:02:19,634] p43792 {<timed exec>:11} INFO - {\n",
      "  \"agentId\": \"J0TEWQNZ89\",\n",
      "  \"agentAliasId\": \"TSTALIASID\",\n",
      "  \"sessionId\": \"4a5687bd-79b2-11ee-943b-846a79be0989\",\n",
      "  \"trace\": {\n",
      "    \"observationTrace\": {\n",
      "      \"traceId\": \"c5e00690-fbdc-4823-a9ac-5ba9ba27c90a-0\",\n",
      "      \"invocationType\": \"KNOWLEDGE_BASE\",\n",
      "      \"knowledgeBaseLookupOutput\": {\n",
      "        \"sourceReferences\": {\n",
      "          \"textSourceReferences\": [\n",
      "            {\n",
      "              \"sourceLocation\": {\n",
      "                \"s3SourceLocation\": {\n",
      "                  \"s3Uri\": \"s3://sagemaker-kb-015469603702/sagemaker.readthedocs.io_en_stable_frameworks_xgboost_using_xgboost.html\"\n",
      "                }\n",
      "              },\n",
      "              \"referenceText\": \"see Extending our PyTorch containers. Use XGBoost as a Built-in Algortihm\\u00b6 Amazon SageMaker provides XGBoost as a built-in algorithm that you can use like other built-in algorithms. Using the built-in algorithm version of XGBoost is simpler than using the open source version, because you don\\u2019t have to write a training script. If you don\\u2019t need the features and flexibility of open source XGBoost, consider using the built-in version. For information about using the Amazon SageMaker XGBoost built-in algorithm, see XGBoost Algorithm in the Amazon SageMaker Developer Guide. Use the Open Source XGBoost Algorithm\\u00b6 If you want the flexibility and additional features that it provides, use the SageMaker open source XGBoost algorithm. For which XGBoost versions are supported, see the AWS documentation. We recommend that you use the latest supported version because that\\u2019s where we focus most of our development efforts. For a complete example of using the open source XGBoost algorithm, see the sample notebook at https://github.com/awslabs/amazon-sagemaker-examples/blob/master/introduction_to_amazon_algorithms/xgboost_abalone/xgboost_abalone_dist_script_mode.ipynb. For more information about XGBoost, see the XGBoost documentation. Train a Model with Open Source XGBoost\\u00b6 To train a model by using the Amazon SageMaker open source XGBoost algorithm: Prepare a training script Create a sagemaker.xgboost.XGBoost estimator Call the estimator\\u2019s fit method Prepare a Training Script\\u00b6 A typical training script loads data from the input channels, configures training with hyperparameters, trains a model,\"\n",
      "            },\n",
      "            {\n",
      "              \"sourceLocation\": {\n",
      "                \"s3SourceLocation\": {\n",
      "                  \"s3Uri\": \"s3://sagemaker-kb-015469603702/sagemaker.readthedocs.io_en_stable_frameworks_xgboost_using_xgboost.html\"\n",
      "                }\n",
      "              },\n",
      "              \"referenceText\": \"see Extending our PyTorch containers. Use XGBoost as a Built-in Algortihm\\u00b6 Amazon SageMaker provides XGBoost as a built-in algorithm that you can use like other built-in algorithms. Using the built-in algorithm version of XGBoost is simpler than using the open source version, because you don\\u2019t have to write a training script. If you don\\u2019t need the features and flexibility of open source XGBoost, consider using the built-in version. For information about using the Amazon SageMaker XGBoost built-in algorithm, see XGBoost Algorithm in the Amazon SageMaker Developer Guide. Use the Open Source XGBoost Algorithm\\u00b6 If you want the flexibility and additional features that it provides, use the SageMaker open source XGBoost algorithm. For which XGBoost versions are supported, see the AWS documentation. We recommend that you use the latest supported version because that\\u2019s where we focus most of our development efforts. For a complete example of using the open source XGBoost algorithm, see the sample notebook at https://github.com/awslabs/amazon-sagemaker-examples/blob/master/introduction_to_amazon_algorithms/xgboost_abalone/xgboost_abalone_dist_script_mode.ipynb. For more information about XGBoost, see the XGBoost documentation. Train a Model with Open Source XGBoost\\u00b6 To train a model by using the Amazon SageMaker open source XGBoost algorithm: Prepare a training script Create a sagemaker.xgboost.XGBoost estimator Call the estimator\\u2019s fit method Prepare a Training Script\\u00b6 A typical training script loads data from the input channels, configures training with hyperparameters, trains a model,\"\n",
      "            },\n",
      "            {\n",
      "              \"sourceLocation\": {\n",
      "                \"s3SourceLocation\": {\n",
      "                  \"s3Uri\": \"s3://sagemaker-kb-015469603702/sagemaker.readthedocs.io_en_stable_algorithms_tabular_xgboost.html\"\n",
      "                }\n",
      "              },\n",
      "              \"referenceText\": \"an expanded set of metrics than the original versions. It provides an XGBoost estimator that executes a training script in a managed XGBoost environment. The current release of SageMaker XGBoost is based on the original XGBoost versions 1.0, 1.2, 1.3, and 1.5. The following table outlines a variety of sample notebooks that address different use cases of Amazon SageMaker XGBoost algorithm. Notebook Title Description How to Create a Custom XGBoost container? This notebook shows you how to build a custom XGBoost Container with Amazon SageMaker Batch Transform. Regression with XGBoost using Parquet This notebook shows you how to use the Abalone dataset in Parquet to train a XGBoost model. How to Train and Host a Multiclass Classification Model? This notebook shows how to use the MNIST dataset to train and host a multiclass classification model. How to train a Model for Customer Churn Prediction? This notebook shows you how to train a model to Predict Mobile Customer Departure in an effort to identify unhappy customers. An Introduction to Amazon SageMaker Managed Spot infrastructure for XGBoost Training This notebook shows you how to use Spot Instances for training with a XGBoost Container. How to use Amazon SageMaker Debugger to debug XGBoost Training Jobs? This notebook shows you how to use Amazon SageMaker Debugger to monitor training jobs to detect inconsistencies. How to use Amazon SageMaker Debugger to debug XGBoost Training Jobs in Real-Time? This notebook shows you how to use the MNIST dataset and Amazon SageMaker Debugger to perform real-time analysis of XGBoost training jobs while training jobs are running. For instructions on how to create and access Jupyter\"\n",
      "            },\n",
      "            {\n",
      "              \"sourceLocation\": {\n",
      "                \"s3SourceLocation\": {\n",
      "                  \"s3Uri\": \"s3://sagemaker-kb-015469603702/sagemaker.readthedocs.io_en_stable_algorithms_tabular_xgboost.html\"\n",
      "                }\n",
      "              },\n",
      "              \"referenceText\": \"an expanded set of metrics than the original versions. It provides an XGBoost estimator that executes a training script in a managed XGBoost environment. The current release of SageMaker XGBoost is based on the original XGBoost versions 1.0, 1.2, 1.3, and 1.5. The following table outlines a variety of sample notebooks that address different use cases of Amazon SageMaker XGBoost algorithm. Notebook Title Description How to Create a Custom XGBoost container? This notebook shows you how to build a custom XGBoost Container with Amazon SageMaker Batch Transform. Regression with XGBoost using Parquet This notebook shows you how to use the Abalone dataset in Parquet to train a XGBoost model. How to Train and Host a Multiclass Classification Model? This notebook shows how to use the MNIST dataset to train and host a multiclass classification model. How to train a Model for Customer Churn Prediction? This notebook shows you how to train a model to Predict Mobile Customer Departure in an effort to identify unhappy customers. An Introduction to Amazon SageMaker Managed Spot infrastructure for XGBoost Training This notebook shows you how to use Spot Instances for training with a XGBoost Container. How to use Amazon SageMaker Debugger to debug XGBoost Training Jobs? This notebook shows you how to use Amazon SageMaker Debugger to monitor training jobs to detect inconsistencies. How to use Amazon SageMaker Debugger to debug XGBoost Training Jobs in Real-Time? This notebook shows you how to use the MNIST dataset and Amazon SageMaker Debugger to perform real-time analysis of XGBoost training jobs while training jobs are running. For instructions on how to create and access Jupyter\"\n",
      "            },\n",
      "            {\n",
      "              \"sourceLocation\": {\n",
      "                \"s3SourceLocation\": {\n",
      "                  \"s3Uri\": \"s3://sagemaker-kb-015469603702/sagemaker.readthedocs.io_en_stable_frameworks_xgboost_using_xgboost.html\"\n",
      "                }\n",
      "              },\n",
      "              \"referenceText\": \"the permissions necessary to run an Amazon SageMaker training job, the type and number of instances to use for the training job, and a dictionary of the hyperparameters to pass to the training script. from sagemaker.xgboost.estimator import XGBoost xgb_estimator = XGBoost( entry_point=\\\"abalone.py\\\", hyperparameters=hyperparameters, role=role, instance_count=1, instance_type=\\\"ml.m5.2xlarge\\\", framework_version=\\\"1.0-1\\\", ) Call the fit Method\\u00b6 After you create an estimator, call the fit method to run the training job. xgb_script_mode_estimator.fit({\\\"train\\\": train_input}) Deploy Open Source XGBoost Models\\u00b6 After you fit an XGBoost Estimator, you can host the newly created model in SageMaker. After you call fit, you can call deploy on an XGBoost estimator to create a SageMaker endpoint. The endpoint runs a SageMaker-provided XGBoost model server and hosts the model produced by your training script, which was run when you called fit. This was the model you saved to model_dir. deploy returns a Predictor object, which you can use to do inference on the Endpoint hosting your XGBoost model. Each Predictor provides a predict method which can do inference with numpy arrays, Python lists, or strings. After inference arrays or lists are serialized and sent to the XGBoost model server, predict returns the result of inference against your model. serializer = StringSerializer(content_type=\\\"text/libsvm\\\") predictor = estimator.deploy(\"\n",
      "            }\n",
      "          ]\n",
      "        }\n",
      "      }\n",
      "    }\n",
      "  }\n",
      "}\n",
      "[2023-11-02 15:02:26,296] p43792 {<timed exec>:11} INFO - {\n",
      "  \"agentId\": \"J0TEWQNZ89\",\n",
      "  \"agentAliasId\": \"TSTALIASID\",\n",
      "  \"sessionId\": \"4a5687bd-79b2-11ee-943b-846a79be0989\",\n",
      "  \"trace\": {\n",
      "    \"rationaleTrace\": {\n",
      "      \"traceId\": \"c5e00690-fbdc-4823-a9ac-5ba9ba27c90a-1\",\n",
      "      \"text\": \"Based on the previous \\\"Observation\\\" I am able to provide \\\"Final Answer\\\"\"\n",
      "    }\n",
      "  }\n",
      "}\n",
      "[2023-11-02 15:02:37,746] p43792 {<timed exec>:11} INFO - {\n",
      "  \"agentId\": \"J0TEWQNZ89\",\n",
      "  \"agentAliasId\": \"TSTALIASID\",\n",
      "  \"sessionId\": \"4a5687bd-79b2-11ee-943b-846a79be0989\",\n",
      "  \"trace\": {\n",
      "    \"observationTrace\": {\n",
      "      \"traceId\": \"c5e00690-fbdc-4823-a9ac-5ba9ba27c90a-1\",\n",
      "      \"invocationType\": \"FINISH\",\n",
      "      \"finalResponse\": {\n",
      "        \"text\": \"The XGBoost versions supported in Amazon SageMaker are 1.0, 1.2, 1.3 and 1.5. The latest version 1.5 is recommended.\"\n",
      "      }\n",
      "    }\n",
      "  }\n",
      "}\n",
      "[2023-11-02 15:02:37,747] p43792 {<timed exec>:7} INFO - Final answer ->\n",
      "Amazon SageMaker supports XGBoost versions 1.0, 1.2, 1.3, and 1.5. The latest supported version is recommended because that is where most development efforts are focused. Amazon SageMaker supports XGBoost versions 1.0, 1.2, 1.3, and 1.5. The latest supported version is recommended because that is where most development efforts are focused.\n"
     ]
    },
    {
     "name": "stdout",
     "output_type": "stream",
     "text": [
      "CPU times: total: 15.6 ms\n",
      "Wall time: 41.9 s\n"
     ]
    }
   ],
   "source": [
    "%%time\n",
    "import json\n",
    "event_stream = response['completion']\n",
    "try:\n",
    "    for event in event_stream:        \n",
    "        if 'chunk' in event:\n",
    "            data = event['chunk']['bytes']\n",
    "            logger.info(f\"Final answer ->\\n{data.decode('utf8')}\") \n",
    "            end_event_received = True\n",
    "            # End event indicates that the request finished successfully\n",
    "        elif 'trace' in event:\n",
    "            logger.info(json.dumps(event['trace'], indent=2))\n",
    "        else:\n",
    "            raise Exception(\"unexpected event.\", event)\n",
    "except Exception as e:\n",
    "    raise Exception(\"unexpected event.\", e)\n"
   ]
  },
  {
   "cell_type": "code",
   "execution_count": null,
   "metadata": {},
   "outputs": [],
   "source": []
  }
 ],
 "metadata": {
  "kernelspec": {
   "display_name": "python-sdk-test-runtime-trace",
   "language": "python",
   "name": "python3"
  },
  "language_info": {
   "codemirror_mode": {
    "name": "ipython",
    "version": 3
   },
   "file_extension": ".py",
   "mimetype": "text/x-python",
   "name": "python",
   "nbconvert_exporter": "python",
   "pygments_lexer": "ipython3",
   "version": "3.11.5"
  }
 },
 "nbformat": 4,
 "nbformat_minor": 2
}
